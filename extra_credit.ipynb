{
 "cells": [
  {
   "cell_type": "code",
   "execution_count": 12,
   "metadata": {},
   "outputs": [
    {
     "data": {
      "text/plain": [
       "[{'lower': 'a', 'upper': 'A', 'index': 1},\n",
       " {'lower': 'b', 'upper': 'B', 'index': 2},\n",
       " {'lower': 'c', 'upper': 'C', 'index': 3},\n",
       " {'lower': 'd', 'upper': 'D', 'index': 4},\n",
       " {'lower': 'e', 'upper': 'E', 'index': 5},\n",
       " {'lower': 'f', 'upper': 'F', 'index': 6},\n",
       " {'lower': 'g', 'upper': 'G', 'index': 7},\n",
       " {'lower': 'h', 'upper': 'H', 'index': 8},\n",
       " {'lower': 'i', 'upper': 'I', 'index': 9},\n",
       " {'lower': 'j', 'upper': 'J', 'index': 10},\n",
       " {'lower': 'k', 'upper': 'K', 'index': 11},\n",
       " {'lower': 'l', 'upper': 'L', 'index': 12},\n",
       " {'lower': 'm', 'upper': 'M', 'index': 13},\n",
       " {'lower': 'n', 'upper': 'N', 'index': 14},\n",
       " {'lower': 'o', 'upper': 'O', 'index': 15},\n",
       " {'lower': 'p', 'upper': 'P', 'index': 16},\n",
       " {'lower': 'q', 'upper': 'Q', 'index': 17},\n",
       " {'lower': 'r', 'upper': 'R', 'index': 18},\n",
       " {'lower': 's', 'upper': 'S', 'index': 19},\n",
       " {'lower': 't', 'upper': 'T', 'index': 20},\n",
       " {'lower': 'u', 'upper': 'U', 'index': 21},\n",
       " {'lower': 'v', 'upper': 'V', 'index': 22},\n",
       " {'lower': 'w', 'upper': 'W', 'index': 23},\n",
       " {'lower': 'x', 'upper': 'X', 'index': 24},\n",
       " {'lower': 'y', 'upper': 'Y', 'index': 25},\n",
       " {'lower': 'z', 'upper': 'Z', 'index': 26}]"
      ]
     },
     "execution_count": 12,
     "metadata": {},
     "output_type": "execute_result"
    }
   ],
   "source": [
    "from string import ascii_lowercase\n",
    "alphabet = [ascii_lowercase]\n",
    "alphabet_data = []\n",
    "for letter, index in zip(ascii_lowercase, range(1,28)):\n",
    "    next_letter = {\n",
    "        'lower': letter,\n",
    "        'upper': letter.capitalize(),\n",
    "        'index': index\n",
    "    }\n",
    "    alphabet_data.append(next_letter)\n",
    "alphabet_data"
   ]
  },
  {
   "cell_type": "code",
   "execution_count": 13,
   "metadata": {},
   "outputs": [
    {
     "data": {
      "text/plain": [
       "[{'lower': 'a', 'upper': 'A', 'index': 0},\n",
       " {'lower': 'b', 'upper': 'B', 'index': 1},\n",
       " {'lower': 'c', 'upper': 'C', 'index': 2},\n",
       " {'lower': 'd', 'upper': 'D', 'index': 3},\n",
       " {'lower': 'e', 'upper': 'E', 'index': 4},\n",
       " {'lower': 'f', 'upper': 'F', 'index': 5},\n",
       " {'lower': 'g', 'upper': 'G', 'index': 6},\n",
       " {'lower': 'h', 'upper': 'H', 'index': 7},\n",
       " {'lower': 'i', 'upper': 'I', 'index': 8},\n",
       " {'lower': 'j', 'upper': 'J', 'index': 9},\n",
       " {'lower': 'k', 'upper': 'K', 'index': 10},\n",
       " {'lower': 'l', 'upper': 'L', 'index': 11},\n",
       " {'lower': 'm', 'upper': 'M', 'index': 12},\n",
       " {'lower': 'n', 'upper': 'N', 'index': 13},\n",
       " {'lower': 'o', 'upper': 'O', 'index': 14},\n",
       " {'lower': 'p', 'upper': 'P', 'index': 15},\n",
       " {'lower': 'q', 'upper': 'Q', 'index': 16},\n",
       " {'lower': 'r', 'upper': 'R', 'index': 17},\n",
       " {'lower': 's', 'upper': 'S', 'index': 18},\n",
       " {'lower': 't', 'upper': 'T', 'index': 19},\n",
       " {'lower': 'u', 'upper': 'U', 'index': 20},\n",
       " {'lower': 'v', 'upper': 'V', 'index': 21},\n",
       " {'lower': 'w', 'upper': 'W', 'index': 22},\n",
       " {'lower': 'x', 'upper': 'X', 'index': 23},\n",
       " {'lower': 'y', 'upper': 'Y', 'index': 24},\n",
       " {'lower': 'z', 'upper': 'Z', 'index': 25}]"
      ]
     },
     "execution_count": 13,
     "metadata": {},
     "output_type": "execute_result"
    }
   ],
   "source": [
    "from string import ascii_lowercase\n",
    "alphabet = [ascii_lowercase]\n",
    "alphabet_data = []\n",
    "for index, letter in enumerate(ascii_lowercase):\n",
    "    next_letter = {\n",
    "        'lower': letter,\n",
    "        'upper': letter.capitalize(),\n",
    "        'index': index\n",
    "    }\n",
    "    alphabet_data.append(next_letter)\n",
    "alphabet_data"
   ]
  },
  {
   "cell_type": "code",
   "execution_count": 14,
   "metadata": {},
   "outputs": [],
   "source": [
    "import pandas as pd"
   ]
  },
  {
   "cell_type": "code",
   "execution_count": 15,
   "metadata": {},
   "outputs": [],
   "source": [
    "alphabet_df = pd.DataFrame(alphabet_data)"
   ]
  },
  {
   "cell_type": "code",
   "execution_count": null,
   "metadata": {},
   "outputs": [],
   "source": []
  }
 ],
 "metadata": {
  "kernelspec": {
   "display_name": "learn-env",
   "language": "python",
   "name": "learn-env"
  },
  "language_info": {
   "codemirror_mode": {
    "name": "ipython",
    "version": 3
   },
   "file_extension": ".py",
   "mimetype": "text/x-python",
   "name": "python",
   "nbconvert_exporter": "python",
   "pygments_lexer": "ipython3",
   "version": "3.6.6"
  }
 },
 "nbformat": 4,
 "nbformat_minor": 2
}
