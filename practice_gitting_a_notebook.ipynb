{
 "cells": [
  {
   "cell_type": "code",
   "execution_count": 5,
   "metadata": {},
   "outputs": [
    {
     "name": "stdout",
     "output_type": "stream",
     "text": [
      "halp...\n",
      "halp...\n",
      "**VIM LOVES ME AND I LOVE VIMM**\n",
      "halp...\n"
     ]
    }
   ],
   "source": [
    "vim_this_morning = ['did i create a file?',\n",
    "                    'am i in insert mode',\n",
    "                    'I removed everything in the file??',\n",
    "                    'yea may or may not be scared of vim']\n",
    "for error in vim_this_morning:\n",
    "    if error == 'I removed everything in the file??':\n",
    "        print ('**VIM LOVES ME AND I LOVE VIMM**')\n",
    "    else:\n",
    "        print ('halp...')"
   ]
  },
  {
   "cell_type": "code",
   "execution_count": null,
   "metadata": {},
   "outputs": [],
   "source": [
    "errors_in_jupyter = 'I definitely forgot to name my notebook when I opened it'"
   ]
  }
 ],
 "metadata": {
  "kernelspec": {
   "display_name": "learn-env",
   "language": "python",
   "name": "learn-env"
  },
  "language_info": {
   "codemirror_mode": {
    "name": "ipython",
    "version": 3
   },
   "file_extension": ".py",
   "mimetype": "text/x-python",
   "name": "python",
   "nbconvert_exporter": "python",
   "pygments_lexer": "ipython3",
   "version": "3.6.6"
  }
 },
 "nbformat": 4,
 "nbformat_minor": 2
}
